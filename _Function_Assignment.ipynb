{
 "cells": [
  {
   "cell_type": "raw",
   "id": "6a4f5fc5-4378-4250-9d89-b9f3b96649ad",
   "metadata": {},
   "source": [
    "# 1.  What is the difference between a function and a method in Python?\n"
   ]
  },
  {
   "cell_type": "raw",
   "id": "a986e01f-2f60-447e-9824-bce024a8b57a",
   "metadata": {},
   "source": [
    "Ans : Function:\n",
    "\n",
    "A function is a standalone block of code that can be called independently.\n",
    "It is defined using the def keyword, followed by the function name and arguments in parentheses.\n",
    "A function has its own scope, which means it has its own set of variables and does not affect the outer scope.\n",
    "Functions can be called from anywhere in the code, and they can be used to perform a specific task or calculation.\n",
    "Functions do not belong to any class or object."
   ]
  },
  {
   "cell_type": "code",
   "execution_count": 1,
   "id": "10eae443-d0c6-4624-8d95-040374ad9064",
   "metadata": {},
   "outputs": [
    {
     "name": "stdout",
     "output_type": "stream",
     "text": [
      "15\n"
     ]
    }
   ],
   "source": [
    "def add(x, y):\n",
    "    return x + y\n",
    "\n",
    "result = add(6, 9)\n",
    "print(result)  "
   ]
  },
  {
   "cell_type": "raw",
   "id": "9ca01e6b-a50b-46f1-ac50-c2e703a52223",
   "metadata": {},
   "source": [
    "Method:\n",
    "\n",
    "A method is a block of code that belongs to a class or object.\n",
    "It is defined using the def keyword inside a class definition, followed by the method name and arguments in parentheses.\n",
    "A method has access to the attributes and methods of the class or object it belongs to.\n",
    "Methods can be called on an instance of the class or object, using the dot notation (e.g., obj.method()).\n",
    "Methods are used to manipulate or interact with the state of an object or class."
   ]
  },
  {
   "cell_type": "code",
   "execution_count": 3,
   "id": "c51b29b3-f7e9-4126-a200-88e53cfcd390",
   "metadata": {},
   "outputs": [
    {
     "name": "stdout",
     "output_type": "stream",
     "text": [
      "17\n"
     ]
    }
   ],
   "source": [
    "class MathOperations:\n",
    "    \n",
    "    @staticmethod\n",
    "    def add(a, b):\n",
    "        return a + b\n",
    "\n",
    "print(MathOperations.add(8, 9))  \n"
   ]
  },
  {
   "cell_type": "raw",
   "id": "715f863e-fbdf-4515-ad8d-0af5fecedb9a",
   "metadata": {},
   "source": [
    "In summary:\n",
    "\n",
    "Functions are standalone blocks of code that can be called independently, whereas methods are blocks of code that belong to a class or object and can be called on an instance of that class or object.\n",
    "Functions have their own scope, whereas methods have access to the attributes and methods of the class or object they belong to."
   ]
  },
  {
   "cell_type": "code",
   "execution_count": null,
   "id": "c370319b-7958-4cb1-a837-16d26332f533",
   "metadata": {},
   "outputs": [],
   "source": []
  },
  {
   "cell_type": "raw",
   "id": "4504ef2c-7229-4247-862d-c090c8d66756",
   "metadata": {},
   "source": [
    "# 2. Explain the concept of function arguments and parameters in Python."
   ]
  },
  {
   "cell_type": "raw",
   "id": "c6218807-9efc-4024-87c3-a989b583e92d",
   "metadata": {},
   "source": [
    "Ans : Function Parameters:\n",
    "\n",
    "A function parameter is a variable that is declared in the function definition, which is used to receive input values when the function is called.\n",
    "Parameters are specified inside the parentheses of the function definition, separated by commas.\n",
    "Parameters can be optional, which means they can be omitted when calling the function.\n",
    "Parameters can also have default values assigned to them, which means they will be used if no value is provided when calling the function."
   ]
  },
  {
   "cell_type": "code",
   "execution_count": null,
   "id": "67c5dd0d-386c-486d-832d-d82b226998e3",
   "metadata": {},
   "outputs": [],
   "source": []
  },
  {
   "cell_type": "code",
   "execution_count": null,
   "id": "abf1c10a-50f2-4314-bb54-4d5c0e261de0",
   "metadata": {},
   "outputs": [],
   "source": [
    "Function Arguments:\n",
    "\n",
    "A function argument is a value that is passed to a function when it is called.\n",
    "Arguments are specified in the order of the parameters when calling the function.\n",
    "Arguments can be optional, just like parameters, but they must be provided in the correct order.\n",
    "Arguments can also be used to override default values assigned to parameters."
   ]
  },
  {
   "cell_type": "code",
   "execution_count": 4,
   "id": "eccd5eeb-fa78-4faa-8455-3d7987c87442",
   "metadata": {},
   "outputs": [
    {
     "name": "stdout",
     "output_type": "stream",
     "text": [
      "1\n",
      "2\n",
      "3\n",
      "4\n"
     ]
    }
   ],
   "source": [
    "def show_numbers(*args):\n",
    "    for num in args:\n",
    "        print(num)\n",
    "\n",
    "show_numbers(1, 2, 3, 4)\n"
   ]
  },
  {
   "cell_type": "code",
   "execution_count": null,
   "id": "8a2a1065-f063-4ac2-a2f9-ff5abeb5908b",
   "metadata": {},
   "outputs": [],
   "source": []
  },
  {
   "cell_type": "raw",
   "id": "36037b7f-be06-4ab3-9211-ebb7beafd6eb",
   "metadata": {},
   "source": [
    "3. What are the different ways to define and call a function in Python?"
   ]
  },
  {
   "cell_type": "raw",
   "id": "4dc8f520-d333-46ad-9eed-1021c3e77cb0",
   "metadata": {},
   "source": [
    "Ans : 1. Simple Function Definition:\n",
    "\n",
    "Use the def keyword to define a function.\n",
    "Specify the function name and parameters (if any).\n",
    "Use indentation to define the function body."
   ]
  },
  {
   "cell_type": "code",
   "execution_count": 5,
   "id": "ad7f6eb6-0d77-46ae-b3d2-5992e8626370",
   "metadata": {},
   "outputs": [
    {
     "name": "stdout",
     "output_type": "stream",
     "text": [
      "Hello, Raj!\n"
     ]
    }
   ],
   "source": [
    "def greet(name):\n",
    "    print(\"Hello, \" + name + \"!\")\n",
    "\n",
    "greet(\"Raj\")  "
   ]
  },
  {
   "cell_type": "raw",
   "id": "283ab89f-de57-4940-be27-04a1b314d1c7",
   "metadata": {},
   "source": [
    "Function Definition with Arguments:\n",
    "\n",
    "Specify the function name and parameters (if any) separated by commas.\n",
    "Use indentation to define the function body."
   ]
  },
  {
   "cell_type": "code",
   "execution_count": 6,
   "id": "6ff24f5e-5ef9-43b6-ae4c-9f02145e248c",
   "metadata": {},
   "outputs": [
    {
     "name": "stdout",
     "output_type": "stream",
     "text": [
      "Hello, Raj! You are 28 years old.\n"
     ]
    }
   ],
   "source": [
    "def greet(name, age):\n",
    "    print(f\"Hello, {name}! You are {age} years old.\")\n",
    "\n",
    "greet(\"Raj\", 28)  "
   ]
  },
  {
   "cell_type": "raw",
   "id": "04e71fc0-ca9b-4f2f-93ec-21240742e4f7",
   "metadata": {},
   "source": [
    " Lambda Function Definition:\n",
    "\n",
    "Use the lambda keyword to define a small, one-line function.\n",
    "Specify the function name and parameters (if any) separated by commas.\n",
    "The function body is executed immediately."
   ]
  },
  {
   "cell_type": "code",
   "execution_count": 11,
   "id": "529331f2-bbf9-479f-8980-49cc0a645a66",
   "metadata": {},
   "outputs": [
    {
     "name": "stdout",
     "output_type": "stream",
     "text": [
      "10\n"
     ]
    }
   ],
   "source": [
    "add = lambda x, y: x + y\n",
    "print(add(7, 3)) \n"
   ]
  },
  {
   "cell_type": "raw",
   "id": "f239c9e9-0245-4653-8329-611cd22a964e",
   "metadata": {},
   "source": [
    "Function Definition with Variable Number of Arguments:\n",
    "\n",
    "Use the * operator to specify a variable number of arguments.\n",
    "The arguments are passed as a tuple to the function."
   ]
  },
  {
   "cell_type": "code",
   "execution_count": 18,
   "id": "af005262-92c6-4e64-ac9e-47d67578c6af",
   "metadata": {},
   "outputs": [
    {
     "name": "stdout",
     "output_type": "stream",
     "text": [
      "1\n",
      "2\n",
      "3\n",
      "4\n",
      "5\n"
     ]
    }
   ],
   "source": [
    "\n",
    "def print_numbers(*args):\n",
    "    for num in args:\n",
    "        print(num)\n",
    "\n",
    "print_numbers(1, 2, 3, 4, 5)  \n"
   ]
  },
  {
   "cell_type": "raw",
   "id": "73587065-55fe-460f-8377-7c701f25bea0",
   "metadata": {},
   "source": [
    " # 4. What is the purpose of the `return` statement in a Python function?"
   ]
  },
  {
   "cell_type": "raw",
   "id": "fad28c2a-30f9-46c8-986a-e7c060519a8b",
   "metadata": {},
   "source": [
    "Ans : The return statement in a Python function is used to:\n",
    "\n",
    "Return a value: When a function reaches a return statement, it immediately stops executing and returns the value specified after the return keyword to the caller.\n",
    "End the function execution: Once a return statement is encountered, the function's execution is terminated, and the program control returns to the calling code.\n"
   ]
  },
  {
   "cell_type": "code",
   "execution_count": 21,
   "id": "ea0f922a-a29a-48a3-8088-ab24887a8b5b",
   "metadata": {},
   "outputs": [
    {
     "name": "stdout",
     "output_type": "stream",
     "text": [
      "14\n"
     ]
    }
   ],
   "source": [
    "def add_numbers(a, b):\n",
    "    return a + b\n",
    "\n",
    "result = add_numbers(8 , 6 )\n",
    "print(result) "
   ]
  },
  {
   "cell_type": "code",
   "execution_count": null,
   "id": "e0c189de-6f1a-4a80-8538-6d8db755f574",
   "metadata": {},
   "outputs": [],
   "source": []
  },
  {
   "cell_type": "raw",
   "id": "92ca1919-9ad8-4611-9860-f38d1d23d9de",
   "metadata": {},
   "source": [
    "# 5. What are iterators in Python and how do they differ from iterables?"
   ]
  },
  {
   "cell_type": "raw",
   "id": "b356c3db-a07e-4d6a-809d-7303f1760377",
   "metadata": {},
   "source": [
    "Ans : Iterables:\n",
    "\n",
    "Can be iterated over using a loop.\n",
    "Are objects that can be used to create an iterator.\n",
    "Can be reused multiple times.\n",
    "Example: A list [1, 2, 3] is an iterable.\n",
    "\n",
    "Iterators:\n",
    "\n",
    "Allow you to iterate over an iterable.\n",
    "Keep track of their position in the iterable.\n",
    "Can only be used once."
   ]
  },
  {
   "cell_type": "code",
   "execution_count": 24,
   "id": "ade1bb0a-aa54-48d2-83c8-63e5c40b0134",
   "metadata": {},
   "outputs": [
    {
     "name": "stdout",
     "output_type": "stream",
     "text": [
      "1\n",
      "2\n",
      "3\n"
     ]
    }
   ],
   "source": [
    "my_list = [1, 2, 3]  # iterable\n",
    "my_iter = iter(my_list)  # iterator\n",
    "\n",
    "print(next(my_iter))  # prints 1\n",
    "print(next(my_iter))  # prints 2\n",
    "print(next(my_iter))  # prints 3\n",
    "\n"
   ]
  },
  {
   "cell_type": "code",
   "execution_count": null,
   "id": "c023e04b-4c78-47bc-8731-21634af8feb7",
   "metadata": {},
   "outputs": [],
   "source": []
  },
  {
   "cell_type": "raw",
   "id": "2ec11d41-69a6-4424-b5af-082cb388de1a",
   "metadata": {},
   "source": [
    "# 6. Explain the concept of generators in Python and how they are defined."
   ]
  },
  {
   "cell_type": "raw",
   "id": "b3709d85-c8a8-4a06-82e2-757fbad69da8",
   "metadata": {},
   "source": [
    "In Python, a generator is a special type of iterable object that can be used to generate a sequence of values on-the-fly, rather than creating the entire sequence at once. Generators are defined using a function that contains a yield statement, which is used to produce the next value in the sequence."
   ]
  },
  {
   "cell_type": "raw",
   "id": "8b7b0d09-f982-44b4-8613-0d3470195272",
   "metadata": {},
   "source": [
    "A generator is defined using a function that returns an iterator object. The function is marked with the yield keyword, which indicates that the function should produce a value and suspend its execution until the next value is requested."
   ]
  },
  {
   "cell_type": "code",
   "execution_count": 23,
   "id": "81624e9b-8bc3-4af7-87f8-42bc9dd028b4",
   "metadata": {},
   "outputs": [
    {
     "name": "stdout",
     "output_type": "stream",
     "text": [
      "1\n",
      "2\n",
      "3\n"
     ]
    }
   ],
   "source": [
    "def my_generator():\n",
    "    yield 1\n",
    "    yield 2\n",
    "    yield 3\n",
    "\n",
    "g = my_generator()\n",
    "print(next(g))  # prints 1\n",
    "print(next(g))  # prints 2\n",
    "print(next(g))  # prints 3"
   ]
  },
  {
   "cell_type": "code",
   "execution_count": null,
   "id": "9c2cf56e-3184-47c9-be8b-f00677e863fb",
   "metadata": {},
   "outputs": [],
   "source": []
  },
  {
   "cell_type": "raw",
   "id": "ae62fe87-1f51-4bc0-9d31-506033165dc0",
   "metadata": {},
   "source": [
    "# 7. What are the advantages of using generators over regular functions?\n",
    "\n",
    "Ans : Memory efficiency: Generators use less memory than regular functions because they don't store the entire sequence of values in memory. Instead, they generate values on-the-fly as they are needed.\n",
    "Lazy evaluation: Generators only produce values when they are requested, which means that they can be used to generate large sequences of data without consuming too much memory."
   ]
  },
  {
   "cell_type": "code",
   "execution_count": 25,
   "id": "b3a45754-7614-4487-a082-88ecbef2db83",
   "metadata": {},
   "outputs": [
    {
     "name": "stdout",
     "output_type": "stream",
     "text": [
      "0\n",
      "1\n",
      "1\n",
      "2\n",
      "3\n",
      "5\n",
      "8\n",
      "13\n",
      "21\n",
      "34\n"
     ]
    }
   ],
   "source": [
    "def fibonacci():\n",
    "    a, b = 0, 1\n",
    "    while True:\n",
    "        yield a\n",
    "        a, b = b, a + b\n",
    "\n",
    "fib = fibonacci()\n",
    "for _ in range(10):\n",
    "    print(next(fib))  # prints the first 10 Fibonacci numbers"
   ]
  },
  {
   "cell_type": "code",
   "execution_count": null,
   "id": "28af11e9-4369-46f8-8840-d57e2277475e",
   "metadata": {},
   "outputs": [],
   "source": []
  },
  {
   "cell_type": "raw",
   "id": "aaf9ba2d-3ccf-4be9-b5ed-832246fb6fbc",
   "metadata": {},
   "source": [
    "# 8. What is a lambda function in Python and when is it typically used? \n",
    " Ans : A lambda function in Python is a small, anonymous function that can be defined inline within a larger expression. Lambda functions are often used when you need to create a small, one-time-use function that doesn't need to be reused.\n",
    "\n",
    "Lambda functions are defined using the lambda keyword, followed by a set of arguments and a colon (:), followed by the code that should be executed."
   ]
  },
  {
   "cell_type": "code",
   "execution_count": 26,
   "id": "91ff731e-4a33-4b04-825a-294b2dea5fe7",
   "metadata": {},
   "outputs": [
    {
     "name": "stdout",
     "output_type": "stream",
     "text": [
      "19\n"
     ]
    }
   ],
   "source": [
    "add = lambda x, y: x + y\n",
    "print(add(9, 10)) "
   ]
  },
  {
   "cell_type": "raw",
   "id": "efc2cc66-be14-4f86-9f69-d8b29b3e8042",
   "metadata": {},
   "source": [
    "Lambda functions are typically used in the following situations:\n",
    "\n",
    "One-time use: When you need to create a small, one-time-use function that doesn't need to be reused.\n",
    "Event handlers: Lambda functions can be used as event handlers, where they need to respond to an event and perform a specific action.\n",
    "Filtering: Lambda functions can be used as filter functions in list comprehensions or map() functions.\n",
    "Sorting: Lambda functions can be used as sort keys in the sorted() function.\n",
    "Reducing: Lambda functions can be used as reduction functions in the reduce() function."
   ]
  },
  {
   "cell_type": "code",
   "execution_count": null,
   "id": "9450fa49-6699-4bef-80b5-0eca47f3d7d5",
   "metadata": {},
   "outputs": [],
   "source": []
  },
  {
   "cell_type": "raw",
   "id": "19056e96-fbcf-4a78-b4a0-efb23e47f3af",
   "metadata": {},
   "source": [
    "# 9. Explain the purpose and usage of the `map()` function in Python.\n",
    " Ans : The map() function in Python applies a given function to each item of an iterable (such as a list, tuple, or string) and returns a list of the results. It is a powerful tool for transforming and processing data in a concise and efficient way.\n",
    " \n",
    " Usage of the map() function:\n",
    "The map() function takes two arguments:\n",
    "\n",
    "A function: This is the function that will be applied to each item of the iterable.\n",
    "An iterable: This is the iterable that contains the items to be processed."
   ]
  },
  {
   "cell_type": "code",
   "execution_count": 27,
   "id": "62d19f2b-5cda-403c-afea-68b7da427b74",
   "metadata": {},
   "outputs": [
    {
     "name": "stdout",
     "output_type": "stream",
     "text": [
      "[1, 4, 9, 16, 25, 36, 49]\n"
     ]
    }
   ],
   "source": [
    "numbers = [1, 2, 3, 4, 5, 6 , 7 ]\n",
    "squared_numbers = list(map(lambda x: x ** 2, numbers))\n",
    "print(squared_numbers) "
   ]
  },
  {
   "cell_type": "code",
   "execution_count": null,
   "id": "413c5b08-e591-4dba-9f0b-0c268ed99b34",
   "metadata": {},
   "outputs": [],
   "source": []
  },
  {
   "cell_type": "raw",
   "id": "2fc6bea3-ca16-454d-b276-9c840993b462",
   "metadata": {},
   "source": [
    "# 10. What is the difference between `map()`, `reduce()`, and `filter()` functions in Python?\n",
    " Ans : 1. map()\n",
    "Purpose: The map() function applies a given function to each item of an iterable (like a list or tuple) and returns an iterator that yields the results."
   ]
  },
  {
   "cell_type": "code",
   "execution_count": 28,
   "id": "e2d107d8-7e36-4e34-9f85-9a7aac0d86bd",
   "metadata": {},
   "outputs": [
    {
     "name": "stdout",
     "output_type": "stream",
     "text": [
      "[1, 9, 25]\n"
     ]
    }
   ],
   "source": [
    "def square(x):\n",
    "    return x * x\n",
    "\n",
    "numbers = [1, 3, 5]\n",
    "squared_numbers = map(square, numbers)\n",
    "\n",
    "print(list(squared_numbers)) \n"
   ]
  },
  {
   "cell_type": "raw",
   "id": "c570dee6-05e9-45fa-9800-dd261aac4986",
   "metadata": {},
   "source": [
    "2. filter()\n",
    "Purpose: The filter() function filters elements of an iterable based on a function that returns True or False. It returns an iterator containing only the elements for which the function returned True."
   ]
  },
  {
   "cell_type": "code",
   "execution_count": 29,
   "id": "e9b6e2bc-ea8f-435f-a521-d5c249f721a9",
   "metadata": {},
   "outputs": [
    {
     "name": "stdout",
     "output_type": "stream",
     "text": [
      "[2, 4, 8, 10, 12]\n"
     ]
    }
   ],
   "source": [
    "def is_even(x):\n",
    "    return x % 2 == 0\n",
    "\n",
    "numbers = [1, 2, 3, 4, 5, 8, 10, 11, 12]\n",
    "even_numbers = filter(is_even, numbers)\n",
    "\n",
    "print(list(even_numbers))  \n"
   ]
  },
  {
   "cell_type": "raw",
   "id": "3ede6d91-7fd5-4039-9cb1-c209b3c9088a",
   "metadata": {},
   "source": [
    "3. reduce()\n",
    "Purpose: The reduce() function performs a cumulative operation on the items of an iterable, reducing it to a single value. This function is available in the functools module."
   ]
  },
  {
   "cell_type": "code",
   "execution_count": 30,
   "id": "c9aa8d9d-e83c-43b7-8ebb-3f1f4686b90c",
   "metadata": {},
   "outputs": [
    {
     "name": "stdout",
     "output_type": "stream",
     "text": [
      "6\n"
     ]
    }
   ],
   "source": [
    "from functools import reduce\n",
    "\n",
    "def add(x, y):\n",
    "    return x + y\n",
    "\n",
    "numbers = [1, 2, 3]\n",
    "sum_result = reduce(add, numbers)\n",
    "\n",
    "print(sum_result)  "
   ]
  },
  {
   "cell_type": "code",
   "execution_count": null,
   "id": "0690670d-c545-4807-8e17-288f85e7e4c3",
   "metadata": {},
   "outputs": [],
   "source": []
  },
  {
   "cell_type": "raw",
   "id": "cec33557-276a-436e-8e23-f884361824ef",
   "metadata": {},
   "source": [
    "# 11. Using pen & Paper write the internal mechanism for sum operation using  reduce function on this given\n",
    "list:[47,11,42,13]; \n",
    " Ans : Step-by-Step Mechanism\n",
    "1. Import the reduce Function\n",
    "First, ensure you import the reduce function from the functools module:"
   ]
  },
  {
   "cell_type": "raw",
   "id": "b0de1277-28f4-40d7-96b9-10bf52c1e241",
   "metadata": {},
   "source": [
    " # Internal mechanism.\n",
    " \n",
    " 1.from functools import reduce\n",
    " 2.Define the Sum Function\n",
    " Define a function that will be used to accumulate the values\n",
    " 3. Apply reduce to the List\n",
    " Use the reduce function to apply the add function to the list [47, 11, 42, 13]:"
   ]
  },
  {
   "cell_type": "code",
   "execution_count": 36,
   "id": "59862d1f-6c2e-4c23-904e-4bd2d990d90f",
   "metadata": {},
   "outputs": [
    {
     "name": "stdout",
     "output_type": "stream",
     "text": [
      "113\n"
     ]
    }
   ],
   "source": [
    "from functools import reduce\n",
    "def add(x, y):\n",
    "    return x + y\n",
    "numbers = [47, 11, 42, 13]\n",
    "result = reduce(add, numbers)\n",
    "\n",
    "print(result)"
   ]
  },
  {
   "cell_type": "code",
   "execution_count": null,
   "id": "450143ff-c0d0-4cde-a7d0-88adf1a6734a",
   "metadata": {},
   "outputs": [],
   "source": []
  },
  {
   "cell_type": "markdown",
   "id": "19458360-383c-42bf-a8ff-485f7d144690",
   "metadata": {},
   "source": [
    "# Practical Questions : "
   ]
  },
  {
   "cell_type": "raw",
   "id": "4ca77245-b1e5-47a7-9669-14eee94a62a4",
   "metadata": {},
   "source": [
    "1. Write a Python function that takes a list of numbers as input and returns the sum of all even numbers in\n",
    "the list."
   ]
  },
  {
   "cell_type": "code",
   "execution_count": 40,
   "id": "b2f78d83-f7d0-4c24-a121-9505b0a7f1f9",
   "metadata": {},
   "outputs": [
    {
     "name": "stdout",
     "output_type": "stream",
     "text": [
      "22\n"
     ]
    }
   ],
   "source": [
    "def sum_even_numbers(numbers):\n",
    "    return sum(num for num in numbers if num % 2 == 0)\n",
    "numbers = [2, 3, 8, 9, 11 , 12]\n",
    "result = sum_even_numbers(numbers)\n",
    "print(result) "
   ]
  },
  {
   "cell_type": "code",
   "execution_count": null,
   "id": "88ef67b0-57f2-4b4f-a870-b14fd4e7e1bb",
   "metadata": {},
   "outputs": [],
   "source": []
  },
  {
   "cell_type": "raw",
   "id": "8d8137b0-8dec-463e-bad6-a99995a98058",
   "metadata": {},
   "source": [
    "2. Create a Python function that accepts a string and returns the reverse of that string."
   ]
  },
  {
   "cell_type": "code",
   "execution_count": 47,
   "id": "bb5cd1c1-6e79-4adb-94f9-b1cd3c804a7f",
   "metadata": {},
   "outputs": [
    {
     "name": "stdout",
     "output_type": "stream",
     "text": [
      "ramukjaR\n"
     ]
    }
   ],
   "source": [
    "def reverse_string(s):\n",
    "    return s[::-1]\n",
    "\n",
    "s = \"Rajkumar\"\n",
    "result = reverse_string(s)\n",
    "print(result)  "
   ]
  },
  {
   "cell_type": "code",
   "execution_count": null,
   "id": "e88fbd1f-6fba-47da-b142-a9bf55121f94",
   "metadata": {},
   "outputs": [],
   "source": []
  },
  {
   "cell_type": "raw",
   "id": "a511c22f-4a15-49dd-9e72-cc2290daaf9d",
   "metadata": {},
   "source": [
    "3. Implement a Python function that takes a list of integers and returns a new list containing the squares of\n",
    "each number."
   ]
  },
  {
   "cell_type": "code",
   "execution_count": 50,
   "id": "98151996-1e43-48fd-b004-88f2bb5fc41b",
   "metadata": {},
   "outputs": [
    {
     "name": "stdout",
     "output_type": "stream",
     "text": [
      "[25, 64, 49, 9, 4]\n"
     ]
    }
   ],
   "source": [
    "def square_numbers(numbers):\n",
    "    return [num ** 2 for num in numbers]\n",
    "input_list = [5, 8, 7, 3 , 2]\n",
    "squared_list = square_numbers(input_list)\n",
    "print(squared_list)\n"
   ]
  },
  {
   "cell_type": "code",
   "execution_count": null,
   "id": "9d77ff7c-3f05-4754-acf3-2e3de050d9fe",
   "metadata": {},
   "outputs": [],
   "source": []
  },
  {
   "cell_type": "raw",
   "id": "31ae0335-b134-4a9a-8b49-bea667fa9220",
   "metadata": {},
   "source": [
    "4.  Write a Python function that checks if a given number is prime or not from 1 to 200."
   ]
  },
  {
   "cell_type": "code",
   "execution_count": 58,
   "id": "b5c03ae4-8c2c-4539-84d5-8a407c74d0e6",
   "metadata": {},
   "outputs": [
    {
     "name": "stdout",
     "output_type": "stream",
     "text": [
      "[2, 3, 5, 7, 11, 13, 17, 19, 23, 29, 31, 37, 41, 43, 47, 53, 59, 61, 67, 71, 73, 79, 83, 89, 97, 101, 103, 107, 109, 113, 127, 131, 137, 139, 149, 151, 157, 163, 167, 173, 179, 181, 191, 193, 197, 199]\n"
     ]
    }
   ],
   "source": [
    "primes = [i for i in range(2, 201) if is_prime(i)]\n",
    "print(primes) "
   ]
  },
  {
   "cell_type": "code",
   "execution_count": 57,
   "id": "94b8dc67-a56d-4544-9e69-4c40abb506a4",
   "metadata": {},
   "outputs": [
    {
     "name": "stdout",
     "output_type": "stream",
     "text": [
      "True\n"
     ]
    }
   ],
   "source": [
    "print(check_prime_in_range(73))"
   ]
  },
  {
   "cell_type": "raw",
   "id": "3ce8da55-2cd1-4081-88d3-5c7013df2c69",
   "metadata": {},
   "source": [
    "5.Create an iterator class in Python that generates the Fibonacci sequence up to a specified number of\n",
    "terms.\n"
   ]
  },
  {
   "cell_type": "raw",
   "id": "c1b8d1bf-adbb-465c-9cc3-4bd04d32edb9",
   "metadata": {},
   "source": [
    "6. Write a generator function in Python that yields the powers of 2 up to a given exponent"
   ]
  },
  {
   "cell_type": "code",
   "execution_count": 64,
   "id": "c4c79f0d-c0d9-4fa2-83d9-3b16aeee5838",
   "metadata": {},
   "outputs": [
    {
     "name": "stdout",
     "output_type": "stream",
     "text": [
      "1\n",
      "2\n",
      "4\n",
      "8\n",
      "16\n",
      "32\n",
      "64\n",
      "128\n"
     ]
    }
   ],
   "source": [
    "def powers_of_two(max_exponent):\n",
    "    for exponent in range(max_exponent + 1):\n",
    "        yield 2 ** exponent\n",
    "\n",
    "\n",
    "max_exponent = 7\n",
    "for power in powers_of_two(max_exponent):\n",
    "    print(power)\n"
   ]
  },
  {
   "cell_type": "raw",
   "id": "b6f3843f-1616-461c-93b0-2246b07de6b3",
   "metadata": {},
   "source": [
    "7. Implement a generator function that reads a file line by line and yields each line as a string.\n"
   ]
  },
  {
   "cell_type": "raw",
   "id": "2aff4422-7104-41e2-8be4-ca6617d55e06",
   "metadata": {},
   "source": [
    "8. Use a lambda function in Python to sort a list of tuples based on the second element of each tuple."
   ]
  },
  {
   "cell_type": "code",
   "execution_count": 70,
   "id": "72fe1adc-172a-4b5e-8143-3899868da5c1",
   "metadata": {},
   "outputs": [
    {
     "name": "stdout",
     "output_type": "stream",
     "text": [
      "[(2, 2), (1, 4), (5, 6), (4, 8)]\n"
     ]
    }
   ],
   "source": [
    "\n",
    "list_of_tuples = [(1, 4), (5, 6), (2, 2), (4, 8)]\n",
    "\n",
    "# Sorting the list based on the second element of each tuple\n",
    "sorted_list = sorted(list_of_tuples, key=lambda x: x[1])\n",
    "\n",
    "# Output the sorted list\n",
    "print(sorted_list)\n"
   ]
  },
  {
   "cell_type": "raw",
   "id": "5fe6e92d-7141-4e6a-9db7-530325fbdaed",
   "metadata": {},
   "source": [
    "9. Write a Python program that uses `map()` to convert a list of temperatures from Celsius to Fahrenheit."
   ]
  },
  {
   "cell_type": "code",
   "execution_count": 73,
   "id": "6c829ecf-62af-41ad-b281-773272dd2f7d",
   "metadata": {},
   "outputs": [
    {
     "name": "stdout",
     "output_type": "stream",
     "text": [
      "[51.8, 93.2, 73.4, 152.6, 136.4]\n"
     ]
    }
   ],
   "source": [
    "def celsius_to_fahrenheit(celsius):\n",
    "    return (celsius * 9/5) + 32\n",
    "celsius_temperatures = [11, 34, 23 , 67, 58]\n",
    "fahrenheit_temperatures = map(celsius_to_fahrenheit, celsius_temperatures)\n",
    "\n",
    "fahrenheit_temperatures_list = list(fahrenheit_temperatures)\n",
    "print(fahrenheit_temperatures_list)\n",
    "\n"
   ]
  },
  {
   "cell_type": "raw",
   "id": "c8c9ff47-470d-41bf-b300-31bb9470a324",
   "metadata": {},
   "source": [
    "10. Create a Python program that uses `filter()` to remove all the vowels from a given string."
   ]
  },
  {
   "cell_type": "code",
   "execution_count": 81,
   "id": "7c324d40-f4a1-4c65-896f-84ffb379a89d",
   "metadata": {},
   "outputs": [
    {
     "name": "stdout",
     "output_type": "stream",
     "text": [
      "Rjkmr Thkr\n"
     ]
    }
   ],
   "source": [
    "def is_not_vowel(char):\n",
    "    vowels = 'aeiouAEIOU'\n",
    "    return char not in vowels\n",
    "\n",
    "def remove_vowels(input_string):\n",
    "   \n",
    "    filtered_chars = filter(is_not_vowel, input_string)\n",
    "    return ''.join(filtered_chars)\n",
    "\n",
    "input_string = \"Rajkumar Thakare\"\n",
    "result = remove_vowels(input_string)\n",
    "print(result)\n"
   ]
  },
  {
   "cell_type": "code",
   "execution_count": null,
   "id": "6aab7683-7e33-480c-84d5-a26a5972fe86",
   "metadata": {},
   "outputs": [],
   "source": []
  },
  {
   "cell_type": "code",
   "execution_count": null,
   "id": "ea3249f4-57ad-41e4-9fa6-549544a59d6c",
   "metadata": {},
   "outputs": [],
   "source": []
  },
  {
   "cell_type": "code",
   "execution_count": null,
   "id": "9dcec101-d25c-465b-a6db-0cb17da82256",
   "metadata": {},
   "outputs": [],
   "source": []
  },
  {
   "cell_type": "code",
   "execution_count": null,
   "id": "0b9ec5f1-1961-487e-a126-1a65d077ab42",
   "metadata": {},
   "outputs": [],
   "source": []
  },
  {
   "cell_type": "code",
   "execution_count": null,
   "id": "9dde7f62-99a0-4257-9764-21064a698c47",
   "metadata": {},
   "outputs": [],
   "source": []
  },
  {
   "cell_type": "code",
   "execution_count": null,
   "id": "f14d3fe0-02c2-4a62-82b9-996d51b1ea05",
   "metadata": {},
   "outputs": [],
   "source": []
  },
  {
   "cell_type": "code",
   "execution_count": null,
   "id": "5952a651-2312-4d91-b463-3e599c1931f8",
   "metadata": {},
   "outputs": [],
   "source": []
  },
  {
   "cell_type": "code",
   "execution_count": null,
   "id": "7d97949d-51dd-4085-9017-efdf6fb95a8d",
   "metadata": {},
   "outputs": [],
   "source": []
  },
  {
   "cell_type": "code",
   "execution_count": null,
   "id": "cda0a85e-c0c6-4ac8-9def-444c4a0be109",
   "metadata": {},
   "outputs": [],
   "source": []
  },
  {
   "cell_type": "code",
   "execution_count": null,
   "id": "a7413f9a-6581-44fc-980a-d908fadbb445",
   "metadata": {},
   "outputs": [],
   "source": []
  },
  {
   "cell_type": "code",
   "execution_count": null,
   "id": "75cbef64-c7d4-40e3-9e05-435f8567533a",
   "metadata": {},
   "outputs": [],
   "source": []
  },
  {
   "cell_type": "code",
   "execution_count": null,
   "id": "69ea211f-e585-49ae-9b93-c40af5f0b5d7",
   "metadata": {},
   "outputs": [],
   "source": []
  },
  {
   "cell_type": "code",
   "execution_count": null,
   "id": "d8b385d6-9667-4d4b-8596-f65fdb29342e",
   "metadata": {},
   "outputs": [],
   "source": []
  },
  {
   "cell_type": "code",
   "execution_count": null,
   "id": "e780e692-cc5a-4648-84e8-078ede29a002",
   "metadata": {},
   "outputs": [],
   "source": []
  },
  {
   "cell_type": "code",
   "execution_count": null,
   "id": "035f1c9e-dd08-4e18-96cf-39efc14cf0b1",
   "metadata": {},
   "outputs": [],
   "source": []
  },
  {
   "cell_type": "code",
   "execution_count": null,
   "id": "fabe87c5-33de-44f7-af04-84fac01300cb",
   "metadata": {},
   "outputs": [],
   "source": []
  }
 ],
 "metadata": {
  "kernelspec": {
   "display_name": "Python 3 (ipykernel)",
   "language": "python",
   "name": "python3"
  },
  "language_info": {
   "codemirror_mode": {
    "name": "ipython",
    "version": 3
   },
   "file_extension": ".py",
   "mimetype": "text/x-python",
   "name": "python",
   "nbconvert_exporter": "python",
   "pygments_lexer": "ipython3",
   "version": "3.10.8"
  }
 },
 "nbformat": 4,
 "nbformat_minor": 5
}
