{
 "cells": [
  {
   "cell_type": "markdown",
   "id": "a155de51-18f5-42fc-bdef-edd91281a704",
   "metadata": {},
   "source": [
    "# 1.  What is the difference between a function and a method in Python?\n"
   ]
  },
  {
   "cell_type": "markdown",
   "id": "4afd32b9-3e61-4ab1-a4bb-db178c644827",
   "metadata": {},
   "source": [
    "Ans : Function:\n",
    "\n",
    "A function is a standalone block of code that can be called independently.\n",
    "It is defined using the def keyword, followed by the function name and arguments in parentheses.\n",
    "A function has its own scope, which means it has its own set of variables and does not affect the outer scope.\n",
    "Functions can be called from anywhere in the code, and they can be used to perform a specific task or calculation.\n",
    "Functions do not belong to any class or object."
   ]
  },
  {
   "cell_type": "code",
   "execution_count": 1,
   "id": "10eae443-d0c6-4624-8d95-040374ad9064",
   "metadata": {},
   "outputs": [
    {
     "name": "stdout",
     "output_type": "stream",
     "text": [
      "15\n"
     ]
    }
   ],
   "source": [
    "def add(x, y):\n",
    "    return x + y\n",
    "\n",
    "result = add(6, 9)\n",
    "print(result)  "
   ]
  },
  {
   "cell_type": "markdown",
   "id": "838198d3-0846-4c8b-b6d8-73ad4c00c186",
   "metadata": {},
   "source": [
    "Method:\n",
    "\n",
    "A method is a block of code that belongs to a class or object.\n",
    "It is defined using the def keyword inside a class definition, followed by the method name and arguments in parentheses.\n",
    "A method has access to the attributes and methods of the class or object it belongs to.\n",
    "Methods can be called on an instance of the class or object, using the dot notation (e.g., obj.method()).\n",
    "Methods are used to manipulate or interact with the state of an object or class."
   ]
  },
  {
   "cell_type": "code",
   "execution_count": 3,
   "id": "c51b29b3-f7e9-4126-a200-88e53cfcd390",
   "metadata": {},
   "outputs": [
    {
     "name": "stdout",
     "output_type": "stream",
     "text": [
      "17\n"
     ]
    }
   ],
   "source": [
    "class MathOperations:\n",
    "    \n",
    "    @staticmethod\n",
    "    def add(a, b):\n",
    "        return a + b\n",
    "\n",
    "print(MathOperations.add(8, 9))  \n"
   ]
  },
  {
   "cell_type": "markdown",
   "id": "0f6fa72e-bfa4-4e08-a643-b3806d2d4e95",
   "metadata": {},
   "source": [
    "In summary:\n",
    "\n",
    "Functions are standalone blocks of code that can be called independently, whereas methods are blocks of code that belong to a class or object and can be called on an instance of that class or object.\n",
    "Functions have their own scope, whereas methods have access to the attributes and methods of the class or object they belong to."
   ]
  },
  {
   "cell_type": "code",
   "execution_count": null,
   "id": "c370319b-7958-4cb1-a837-16d26332f533",
   "metadata": {},
   "outputs": [],
   "source": []
  },
  {
   "cell_type": "markdown",
   "id": "c0c3c179-072c-494b-b174-a0b7dd2f78c3",
   "metadata": {},
   "source": [
    "# 2. Explain the concept of function arguments and parameters in Python."
   ]
  },
  {
   "cell_type": "markdown",
   "id": "4149cb97-3c18-40a2-b095-e5883bde5343",
   "metadata": {},
   "source": [
    "Ans : Function Parameters:\n",
    "\n",
    "A function parameter is a variable that is declared in the function definition, which is used to receive input values when the function is called.\n",
    "Parameters are specified inside the parentheses of the function definition, separated by commas.\n",
    "Parameters can be optional, which means they can be omitted when calling the function.\n",
    "Parameters can also have default values assigned to them, which means they will be used if no value is provided when calling the function."
   ]
  },
  {
   "cell_type": "code",
   "execution_count": null,
   "id": "67c5dd0d-386c-486d-832d-d82b226998e3",
   "metadata": {},
   "outputs": [],
   "source": []
  },
  {
   "cell_type": "markdown",
   "id": "7dccabf7-83d0-40aa-ba72-ab76087356c5",
   "metadata": {},
   "source": [
    "Function Arguments:\n",
    "\n",
    "A function argument is a value that is passed to a function when it is called.\n",
    "Arguments are specified in the order of the parameters when calling the function.\n",
    "Arguments can be optional, just like parameters, but they must be provided in the correct order.\n",
    "Arguments can also be used to override default values assigned to parameters."
   ]
  },
  {
   "cell_type": "code",
   "execution_count": 4,
   "id": "eccd5eeb-fa78-4faa-8455-3d7987c87442",
   "metadata": {},
   "outputs": [
    {
     "name": "stdout",
     "output_type": "stream",
     "text": [
      "1\n",
      "2\n",
      "3\n",
      "4\n"
     ]
    }
   ],
   "source": [
    "def show_numbers(*args):\n",
    "    for num in args:\n",
    "        print(num)\n",
    "\n",
    "show_numbers(1, 2, 3, 4)\n"
   ]
  },
  {
   "cell_type": "code",
   "execution_count": null,
   "id": "8a2a1065-f063-4ac2-a2f9-ff5abeb5908b",
   "metadata": {},
   "outputs": [],
   "source": []
  },
  {
   "cell_type": "markdown",
   "id": "271666ca-4cbd-4ff7-959a-e514798c4dfe",
   "metadata": {},
   "source": [
    "# 3. What are the different ways to define and call a function in Python?"
   ]
  },
  {
   "cell_type": "markdown",
   "id": "bb5bab36-8bd1-4957-a7b1-312de30436dc",
   "metadata": {},
   "source": [
    "Ans : 1. Simple Function Definition:\n",
    "\n",
    "Use the def keyword to define a function.\n",
    "Specify the function name and parameters (if any).\n",
    "Use indentation to define the function body."
   ]
  },
  {
   "cell_type": "code",
   "execution_count": 5,
   "id": "ad7f6eb6-0d77-46ae-b3d2-5992e8626370",
   "metadata": {},
   "outputs": [
    {
     "name": "stdout",
     "output_type": "stream",
     "text": [
      "Hello, Raj!\n"
     ]
    }
   ],
   "source": [
    "def greet(name):\n",
    "    print(\"Hello, \" + name + \"!\")\n",
    "\n",
    "greet(\"Raj\")  "
   ]
  },
  {
   "cell_type": "code",
   "execution_count": null,
   "id": "c2eaec06-8046-4022-947f-363d6ba428d4",
   "metadata": {},
   "outputs": [],
   "source": []
  },
  {
   "cell_type": "markdown",
   "id": "cc5d08ad-99c7-4ff8-9e5b-45922aa61fcf",
   "metadata": {},
   "source": [
    "Function Definition with Arguments:\n",
    "\n",
    "Specify the function name and parameters (if any) separated by commas.\n",
    "Use indentation to define the function body."
   ]
  },
  {
   "cell_type": "code",
   "execution_count": 6,
   "id": "6ff24f5e-5ef9-43b6-ae4c-9f02145e248c",
   "metadata": {},
   "outputs": [
    {
     "name": "stdout",
     "output_type": "stream",
     "text": [
      "Hello, Raj! You are 28 years old.\n"
     ]
    }
   ],
   "source": [
    "def greet(name, age):\n",
    "    print(f\"Hello, {name}! You are {age} years old.\")\n",
    "\n",
    "greet(\"Raj\", 28)  "
   ]
  },
  {
   "cell_type": "code",
   "execution_count": null,
   "id": "29c76ee3-dd9e-473b-9797-f204dfa6f38d",
   "metadata": {},
   "outputs": [],
   "source": []
  },
  {
   "cell_type": "markdown",
   "id": "96253359-04dc-4d24-bcf2-b84df2c86756",
   "metadata": {},
   "source": [
    " Lambda Function Definition:\n",
    "\n",
    "Use the lambda keyword to define a small, one-line function.\n",
    "Specify the function name and parameters (if any) separated by commas.\n",
    "The function body is executed immediately."
   ]
  },
  {
   "cell_type": "code",
   "execution_count": 11,
   "id": "529331f2-bbf9-479f-8980-49cc0a645a66",
   "metadata": {},
   "outputs": [
    {
     "name": "stdout",
     "output_type": "stream",
     "text": [
      "10\n"
     ]
    }
   ],
   "source": [
    "add = lambda x, y: x + y\n",
    "print(add(7, 3)) \n"
   ]
  },
  {
   "cell_type": "code",
   "execution_count": null,
   "id": "805759f7-5b9f-4116-afcb-cb7f16d879f5",
   "metadata": {},
   "outputs": [],
   "source": []
  },
  {
   "cell_type": "markdown",
   "id": "0c2360d9-7214-4cd4-80a7-216766139268",
   "metadata": {},
   "source": [
    "Function Definition with Variable Number of Arguments:\n",
    "\n",
    "Use the * operator to specify a variable number of arguments.\n",
    "The arguments are passed as a tuple to the function."
   ]
  },
  {
   "cell_type": "code",
   "execution_count": 18,
   "id": "af005262-92c6-4e64-ac9e-47d67578c6af",
   "metadata": {},
   "outputs": [
    {
     "name": "stdout",
     "output_type": "stream",
     "text": [
      "1\n",
      "2\n",
      "3\n",
      "4\n",
      "5\n"
     ]
    }
   ],
   "source": [
    "\n",
    "def print_numbers(*args):\n",
    "    for num in args:\n",
    "        print(num)\n",
    "\n",
    "print_numbers(1, 2, 3, 4, 5)  \n"
   ]
  },
  {
   "cell_type": "markdown",
   "id": "01855867-798e-4a97-b86a-0a2e3b0440d8",
   "metadata": {},
   "source": [
    " # 4. What is the purpose of the `return` statement in a Python function?"
   ]
  },
  {
   "cell_type": "markdown",
   "id": "d5858f3e-9bc2-4fa9-a867-a75527f2104b",
   "metadata": {},
   "source": [
    "Ans : The return statement in a Python function is used to:\n",
    "\n",
    "Return a value: When a function reaches a return statement, it immediately stops executing and returns the value specified after the return keyword to the caller.\n",
    "End the function execution: Once a return statement is encountered, the function's execution is terminated, and the program control returns to the calling code.\n"
   ]
  },
  {
   "cell_type": "code",
   "execution_count": 21,
   "id": "ea0f922a-a29a-48a3-8088-ab24887a8b5b",
   "metadata": {},
   "outputs": [
    {
     "name": "stdout",
     "output_type": "stream",
     "text": [
      "14\n"
     ]
    }
   ],
   "source": [
    "def add_numbers(a, b):\n",
    "    return a + b\n",
    "\n",
    "result = add_numbers(8 , 6 )\n",
    "print(result) "
   ]
  },
  {
   "cell_type": "code",
   "execution_count": null,
   "id": "e0c189de-6f1a-4a80-8538-6d8db755f574",
   "metadata": {},
   "outputs": [],
   "source": []
  },
  {
   "cell_type": "markdown",
   "id": "a218de8a-60fa-48e9-9ac1-b3f958d1bb83",
   "metadata": {},
   "source": [
    "# 5. What are iterators in Python and how do they differ from iterables?"
   ]
  },
  {
   "cell_type": "markdown",
   "id": "1bfa2cbb-5f78-40f1-8610-4bf12d9335d5",
   "metadata": {},
   "source": [
    "Ans : Iterables:\n",
    "\n",
    "Can be iterated over using a loop.\n",
    "Are objects that can be used to create an iterator.\n",
    "Can be reused multiple times.\n",
    "Example: A list [1, 2, 3] is an iterable.\n",
    "\n",
    "Iterators:\n",
    "\n",
    "Allow you to iterate over an iterable.\n",
    "Keep track of their position in the iterable.\n",
    "Can only be used once."
   ]
  },
  {
   "cell_type": "code",
   "execution_count": 24,
   "id": "ade1bb0a-aa54-48d2-83c8-63e5c40b0134",
   "metadata": {},
   "outputs": [
    {
     "name": "stdout",
     "output_type": "stream",
     "text": [
      "1\n",
      "2\n",
      "3\n"
     ]
    }
   ],
   "source": [
    "my_list = [1, 2, 3]  # iterable\n",
    "my_iter = iter(my_list)  # iterator\n",
    "\n",
    "print(next(my_iter))  # prints 1\n",
    "print(next(my_iter))  # prints 2\n",
    "print(next(my_iter))  # prints 3\n",
    "\n"
   ]
  },
  {
   "cell_type": "code",
   "execution_count": null,
   "id": "c023e04b-4c78-47bc-8731-21634af8feb7",
   "metadata": {},
   "outputs": [],
   "source": []
  },
  {
   "cell_type": "markdown",
   "id": "8192905c-7db7-4acb-8360-448007718363",
   "metadata": {},
   "source": [
    "# 6. Explain the concept of generators in Python and how they are defined."
   ]
  },
  {
   "cell_type": "markdown",
   "id": "eb51b3f5-1075-4cb1-be2d-6b89e263c3fc",
   "metadata": {},
   "source": [
    "In Python, a generator is a special type of iterable object that can be used to generate a sequence of values on-the-fly, rather than creating the entire sequence at once. Generators are defined using a function that contains a yield statement, which is used to produce the next value in the sequence."
   ]
  },
  {
   "cell_type": "markdown",
   "id": "7fb746b4-6cf2-4f29-9c54-b319ea79a3ec",
   "metadata": {},
   "source": [
    "A generator is defined using a function that returns an iterator object. The function is marked with the yield keyword, which indicates that the function should produce a value and suspend its execution until the next value is requested."
   ]
  },
  {
   "cell_type": "markdown",
   "id": "a15c4738-be80-4cd3-a2c2-5088c2975add",
   "metadata": {},
   "source": [
    "def my_generator():\n",
    "    yield 1\n",
    "    yield 2\n",
    "    yield 3\n",
    "\n",
    "g = my_generator()\n",
    "print(next(g))  # prints 1\n",
    "print(next(g))  # prints 2\n",
    "print(next(g))  # prints 3"
   ]
  },
  {
   "cell_type": "code",
   "execution_count": null,
   "id": "9c2cf56e-3184-47c9-be8b-f00677e863fb",
   "metadata": {},
   "outputs": [],
   "source": []
  },
  {
   "cell_type": "markdown",
   "id": "3ade1c45-45b4-4fc8-bd02-0825264f5909",
   "metadata": {},
   "source": [
    "# 7. What are the advantages of using generators over regular functions?\n",
    "\n",
    "Ans : Memory efficiency: Generators use less memory than regular functions because they don't store the entire sequence of values in memory. Instead, they generate values on-the-fly as they are needed.\n",
    "Lazy evaluation: Generators only produce values when they are requested, which means that they can be used to generate large sequences of data without consuming too much memory."
   ]
  },
  {
   "cell_type": "code",
   "execution_count": 25,
   "id": "b3a45754-7614-4487-a082-88ecbef2db83",
   "metadata": {},
   "outputs": [
    {
     "name": "stdout",
     "output_type": "stream",
     "text": [
      "0\n",
      "1\n",
      "1\n",
      "2\n",
      "3\n",
      "5\n",
      "8\n",
      "13\n",
      "21\n",
      "34\n"
     ]
    }
   ],
   "source": [
    "def fibonacci():\n",
    "    a, b = 0, 1\n",
    "    while True:\n",
    "        yield a\n",
    "        a, b = b, a + b\n",
    "\n",
    "fib = fibonacci()\n",
    "for _ in range(10):\n",
    "    print(next(fib))  # prints the first 10 Fibonacci numbers"
   ]
  },
  {
   "cell_type": "code",
   "execution_count": null,
   "id": "28af11e9-4369-46f8-8840-d57e2277475e",
   "metadata": {},
   "outputs": [],
   "source": []
  },
  {
   "cell_type": "markdown",
   "id": "e868a1a3-0098-4358-b52e-1a5a4d26d4c3",
   "metadata": {},
   "source": [
    "# 8. What is a lambda function in Python and when is it typically used? \n",
    " Ans : A lambda function in Python is a small, anonymous function that can be defined inline within a larger expression. Lambda functions are often used when you need to create a small, one-time-use function that doesn't need to be reused.\n",
    "\n",
    "Lambda functions are defined using the lambda keyword, followed by a set of arguments and a colon (:), followed by the code that should be executed."
   ]
  },
  {
   "cell_type": "code",
   "execution_count": 26,
   "id": "91ff731e-4a33-4b04-825a-294b2dea5fe7",
   "metadata": {},
   "outputs": [
    {
     "name": "stdout",
     "output_type": "stream",
     "text": [
      "19\n"
     ]
    }
   ],
   "source": [
    "add = lambda x, y: x + y\n",
    "print(add(9, 10)) "
   ]
  },
  {
   "cell_type": "code",
   "execution_count": null,
   "id": "a7a9f158-8517-46f8-a51a-d3174aa2c027",
   "metadata": {},
   "outputs": [],
   "source": []
  },
  {
   "cell_type": "markdown",
   "id": "96721e3d-4a6d-413d-96b0-efb8cdfb9056",
   "metadata": {},
   "source": [
    "Lambda functions are typically used in the following situations:\n",
    "\n",
    "One-time use: When you need to create a small, one-time-use function that doesn't need to be reused.\n",
    "Event handlers: Lambda functions can be used as event handlers, where they need to respond to an event and perform a specific action.\n",
    "Filtering: Lambda functions can be used as filter functions in list comprehensions or map() functions.\n",
    "Sorting: Lambda functions can be used as sort keys in the sorted() function.\n",
    "Reducing: Lambda functions can be used as reduction functions in the reduce() function."
   ]
  },
  {
   "cell_type": "code",
   "execution_count": null,
   "id": "9450fa49-6699-4bef-80b5-0eca47f3d7d5",
   "metadata": {},
   "outputs": [],
   "source": []
  },
  {
   "cell_type": "markdown",
   "id": "71b6929f-5468-4fdc-96fb-50cec0254808",
   "metadata": {},
   "source": [
    "# 9. Explain the purpose and usage of the `map()` function in Python.\n",
    " Ans : The map() function in Python applies a given function to each item of an iterable (such as a list, tuple, or string) and returns a list of the results. It is a powerful tool for transforming and processing data in a concise and efficient way.\n",
    " \n",
    " Usage of the map() function:\n",
    "The map() function takes two arguments:\n",
    "\n",
    "A function: This is the function that will be applied to each item of the iterable.\n",
    "An iterable: This is the iterable that contains the items to be processed."
   ]
  },
  {
   "cell_type": "code",
   "execution_count": 27,
   "id": "62d19f2b-5cda-403c-afea-68b7da427b74",
   "metadata": {},
   "outputs": [
    {
     "name": "stdout",
     "output_type": "stream",
     "text": [
      "[1, 4, 9, 16, 25, 36, 49]\n"
     ]
    }
   ],
   "source": [
    "numbers = [1, 2, 3, 4, 5, 6 , 7 ]\n",
    "squared_numbers = list(map(lambda x: x ** 2, numbers))\n",
    "print(squared_numbers) "
   ]
  },
  {
   "cell_type": "code",
   "execution_count": null,
   "id": "413c5b08-e591-4dba-9f0b-0c268ed99b34",
   "metadata": {},
   "outputs": [],
   "source": []
  },
  {
   "cell_type": "markdown",
   "id": "53879acb-8636-43c0-a3ea-6ff0ffe5253f",
   "metadata": {},
   "source": [
    "# 10. What is the difference between `map()`, `reduce()`, and `filter()` functions in Python?\n",
    " Ans : 1. map()\n",
    "Purpose: The map() function applies a given function to each item of an iterable (like a list or tuple) and returns an iterator that yields the results."
   ]
  },
  {
   "cell_type": "code",
   "execution_count": 28,
   "id": "e2d107d8-7e36-4e34-9f85-9a7aac0d86bd",
   "metadata": {},
   "outputs": [
    {
     "name": "stdout",
     "output_type": "stream",
     "text": [
      "[1, 9, 25]\n"
     ]
    }
   ],
   "source": [
    "def square(x):\n",
    "    return x * x\n",
    "\n",
    "numbers = [1, 3, 5]\n",
    "squared_numbers = map(square, numbers)\n",
    "\n",
    "print(list(squared_numbers)) \n"
   ]
  },
  {
   "cell_type": "code",
   "execution_count": null,
   "id": "1e0babf4-aebc-4641-ba00-4a18712b2f65",
   "metadata": {},
   "outputs": [],
   "source": []
  },
  {
   "cell_type": "markdown",
   "id": "2ee59b0a-5bad-4b22-99bc-91cb7e2fd064",
   "metadata": {},
   "source": [
    "2. filter()\n",
    "Purpose: The filter() function filters elements of an iterable based on a function that returns True or False. It returns an iterator containing only the elements for which the function returned True."
   ]
  },
  {
   "cell_type": "code",
   "execution_count": 29,
   "id": "e9b6e2bc-ea8f-435f-a521-d5c249f721a9",
   "metadata": {},
   "outputs": [
    {
     "name": "stdout",
     "output_type": "stream",
     "text": [
      "[2, 4, 8, 10, 12]\n"
     ]
    }
   ],
   "source": [
    "def is_even(x):\n",
    "    return x % 2 == 0\n",
    "\n",
    "numbers = [1, 2, 3, 4, 5, 8, 10, 11, 12]\n",
    "even_numbers = filter(is_even, numbers)\n",
    "\n",
    "print(list(even_numbers))  \n"
   ]
  },
  {
   "cell_type": "markdown",
   "id": "f18dfe51-7fe6-4520-95df-b2d693cbc007",
   "metadata": {},
   "source": [
    "3. reduce()\n",
    "Purpose: The reduce() function performs a cumulative operation on the items of an iterable, reducing it to a single value. This function is available in the functools module."
   ]
  },
  {
   "cell_type": "code",
   "execution_count": 30,
   "id": "c9aa8d9d-e83c-43b7-8ebb-3f1f4686b90c",
   "metadata": {},
   "outputs": [
    {
     "name": "stdout",
     "output_type": "stream",
     "text": [
      "6\n"
     ]
    }
   ],
   "source": [
    "from functools import reduce\n",
    "\n",
    "def add(x, y):\n",
    "    return x + y\n",
    "\n",
    "numbers = [1, 2, 3]\n",
    "sum_result = reduce(add, numbers)\n",
    "\n",
    "print(sum_result)  "
   ]
  },
  {
   "cell_type": "code",
   "execution_count": null,
   "id": "0690670d-c545-4807-8e17-288f85e7e4c3",
   "metadata": {},
   "outputs": [],
   "source": []
  },
  {
   "cell_type": "markdown",
   "id": "31cd9f14-021c-46f4-8ccc-5c9ca3d71da3",
   "metadata": {},
   "source": [
    "# 11. Using pen & Paper write the internal mechanism for sum operation using  reduce function on this given\n",
    "list:[47,11,42,13]; \n",
    " Ans : Step-by-Step Mechanism\n",
    " Import the reduce Function\n",
    "First, ensure you import the reduce function from the functools module:"
   ]
  },
  {
   "cell_type": "markdown",
   "id": "d5ec9c0e-01cb-4d59-ac1d-fb3cba79f859",
   "metadata": {},
   "source": [
    " # Internal mechanism.\n",
    " \n",
    " 1.from functools import reduce\n",
    " 2.Define the Sum Function\n",
    " Define a function that will be used to accumulate the values\n",
    " 3. Apply reduce to the List\n",
    " Use the reduce function to apply the add function to the list [47, 11, 42, 13]:"
   ]
  },
  {
   "cell_type": "code",
   "execution_count": 36,
   "id": "59862d1f-6c2e-4c23-904e-4bd2d990d90f",
   "metadata": {},
   "outputs": [
    {
     "name": "stdout",
     "output_type": "stream",
     "text": [
      "113\n"
     ]
    }
   ],
   "source": [
    "from functools import reduce\n",
    "def add(x, y):\n",
    "    return x + y\n",
    "numbers = [47, 11, 42, 13]\n",
    "result = reduce(add, numbers)\n",
    "\n",
    "print(result)"
   ]
  },
  {
   "cell_type": "code",
   "execution_count": null,
   "id": "450143ff-c0d0-4cde-a7d0-88adf1a6734a",
   "metadata": {},
   "outputs": [],
   "source": []
  },
  {
   "cell_type": "markdown",
   "id": "19458360-383c-42bf-a8ff-485f7d144690",
   "metadata": {},
   "source": [
    "# Practical Questions : "
   ]
  },
  {
   "cell_type": "markdown",
   "id": "c1b20262-6f38-4e96-be9d-a7fa221da3a1",
   "metadata": {},
   "source": [
    "1. Write a Python function that takes a list of numbers as input and returns the sum of all even numbers in\n",
    "the list."
   ]
  },
  {
   "cell_type": "code",
   "execution_count": 40,
   "id": "b2f78d83-f7d0-4c24-a121-9505b0a7f1f9",
   "metadata": {},
   "outputs": [
    {
     "name": "stdout",
     "output_type": "stream",
     "text": [
      "22\n"
     ]
    }
   ],
   "source": [
    "def sum_even_numbers(numbers):\n",
    "    return sum(num for num in numbers if num % 2 == 0)\n",
    "numbers = [2, 3, 8, 9, 11 , 12]\n",
    "result = sum_even_numbers(numbers)\n",
    "print(result) "
   ]
  },
  {
   "cell_type": "code",
   "execution_count": null,
   "id": "88ef67b0-57f2-4b4f-a870-b14fd4e7e1bb",
   "metadata": {},
   "outputs": [],
   "source": []
  },
  {
   "cell_type": "markdown",
   "id": "ce068685-6075-4187-a7d2-62b36be813fa",
   "metadata": {},
   "source": [
    "2. Create a Python function that accepts a string and returns the reverse of that string."
   ]
  },
  {
   "cell_type": "code",
   "execution_count": 47,
   "id": "bb5cd1c1-6e79-4adb-94f9-b1cd3c804a7f",
   "metadata": {},
   "outputs": [
    {
     "name": "stdout",
     "output_type": "stream",
     "text": [
      "ramukjaR\n"
     ]
    }
   ],
   "source": [
    "def reverse_string(s):\n",
    "    return s[::-1]\n",
    "\n",
    "s = \"Rajkumar\"\n",
    "result = reverse_string(s)\n",
    "print(result)  "
   ]
  },
  {
   "cell_type": "code",
   "execution_count": null,
   "id": "e88fbd1f-6fba-47da-b142-a9bf55121f94",
   "metadata": {},
   "outputs": [],
   "source": []
  },
  {
   "cell_type": "markdown",
   "id": "cf5d3db6-487f-4892-9c53-9e1f42e1331f",
   "metadata": {},
   "source": [
    "3. Implement a Python function that takes a list of integers and returns a new list containing the squares of\n",
    "each number."
   ]
  },
  {
   "cell_type": "code",
   "execution_count": 50,
   "id": "98151996-1e43-48fd-b004-88f2bb5fc41b",
   "metadata": {},
   "outputs": [
    {
     "name": "stdout",
     "output_type": "stream",
     "text": [
      "[25, 64, 49, 9, 4]\n"
     ]
    }
   ],
   "source": [
    "def square_numbers(numbers):\n",
    "    return [num ** 2 for num in numbers]\n",
    "input_list = [5, 8, 7, 3 , 2]\n",
    "squared_list = square_numbers(input_list)\n",
    "print(squared_list)\n"
   ]
  },
  {
   "cell_type": "code",
   "execution_count": null,
   "id": "9d77ff7c-3f05-4754-acf3-2e3de050d9fe",
   "metadata": {},
   "outputs": [],
   "source": []
  },
  {
   "cell_type": "markdown",
   "id": "262a45eb-ac71-49f2-9015-1b21c1f3e7e6",
   "metadata": {},
   "source": [
    "4.  Write a Python function that checks if a given number is prime or not from 1 to 200."
   ]
  },
  {
   "cell_type": "code",
   "execution_count": 58,
   "id": "b5c03ae4-8c2c-4539-84d5-8a407c74d0e6",
   "metadata": {},
   "outputs": [
    {
     "name": "stdout",
     "output_type": "stream",
     "text": [
      "[2, 3, 5, 7, 11, 13, 17, 19, 23, 29, 31, 37, 41, 43, 47, 53, 59, 61, 67, 71, 73, 79, 83, 89, 97, 101, 103, 107, 109, 113, 127, 131, 137, 139, 149, 151, 157, 163, 167, 173, 179, 181, 191, 193, 197, 199]\n"
     ]
    }
   ],
   "source": [
    "primes = [i for i in range(2, 201) if is_prime(i)]\n",
    "print(primes) "
   ]
  },
  {
   "cell_type": "code",
   "execution_count": 57,
   "id": "94b8dc67-a56d-4544-9e69-4c40abb506a4",
   "metadata": {},
   "outputs": [
    {
     "name": "stdout",
     "output_type": "stream",
     "text": [
      "True\n"
     ]
    }
   ],
   "source": [
    "print(check_prime_in_range(73))"
   ]
  },
  {
   "cell_type": "markdown",
   "id": "62f2806b-c31a-4f66-838f-a85f4df0beef",
   "metadata": {},
   "source": [
    "5.Create an iterator class in Python that generates the Fibonacci sequence up to a specified number of\n",
    "terms.\n"
   ]
  },
  {
   "cell_type": "raw",
   "id": "c1b8d1bf-adbb-465c-9cc3-4bd04d32edb9",
   "metadata": {},
   "source": [
    "6. Write a generator function in Python that yields the powers of 2 up to a given exponent"
   ]
  },
  {
   "cell_type": "code",
   "execution_count": 64,
   "id": "c4c79f0d-c0d9-4fa2-83d9-3b16aeee5838",
   "metadata": {},
   "outputs": [
    {
     "name": "stdout",
     "output_type": "stream",
     "text": [
      "1\n",
      "2\n",
      "4\n",
      "8\n",
      "16\n",
      "32\n",
      "64\n",
      "128\n"
     ]
    }
   ],
   "source": [
    "def powers_of_two(max_exponent):\n",
    "    for exponent in range(max_exponent + 1):\n",
    "        yield 2 ** exponent\n",
    "\n",
    "\n",
    "max_exponent = 7\n",
    "for power in powers_of_two(max_exponent):\n",
    "    print(power)\n"
   ]
  },
  {
   "cell_type": "markdown",
   "id": "45db969a-7f2b-40fb-86ba-cf6df05345e3",
   "metadata": {},
   "source": [
    "7. Implement a generator function that reads a file line by line and yields each line as a string.\n"
   ]
  },
  {
   "cell_type": "markdown",
   "id": "664781fb-91e4-43e6-a3fa-de70249280c2",
   "metadata": {},
   "source": [
    "8. Use a lambda function in Python to sort a list of tuples based on the second element of each tuple."
   ]
  },
  {
   "cell_type": "code",
   "execution_count": 70,
   "id": "72fe1adc-172a-4b5e-8143-3899868da5c1",
   "metadata": {},
   "outputs": [
    {
     "name": "stdout",
     "output_type": "stream",
     "text": [
      "[(2, 2), (1, 4), (5, 6), (4, 8)]\n"
     ]
    }
   ],
   "source": [
    "\n",
    "list_of_tuples = [(1, 4), (5, 6), (2, 2), (4, 8)]\n",
    "\n",
    "# Sorting the list based on the second element of each tuple\n",
    "sorted_list = sorted(list_of_tuples, key=lambda x: x[1])\n",
    "\n",
    "# Output the sorted list\n",
    "print(sorted_list)\n"
   ]
  },
  {
   "cell_type": "markdown",
   "id": "90fea284-37d0-44ac-8530-9fcddbb951ad",
   "metadata": {},
   "source": [
    "9. Write a Python program that uses `map()` to convert a list of temperatures from Celsius to Fahrenheit."
   ]
  },
  {
   "cell_type": "code",
   "execution_count": 73,
   "id": "6c829ecf-62af-41ad-b281-773272dd2f7d",
   "metadata": {},
   "outputs": [
    {
     "name": "stdout",
     "output_type": "stream",
     "text": [
      "[51.8, 93.2, 73.4, 152.6, 136.4]\n"
     ]
    }
   ],
   "source": [
    "def celsius_to_fahrenheit(celsius):\n",
    "    return (celsius * 9/5) + 32\n",
    "celsius_temperatures = [11, 34, 23 , 67, 58]\n",
    "fahrenheit_temperatures = map(celsius_to_fahrenheit, celsius_temperatures)\n",
    "\n",
    "fahrenheit_temperatures_list = list(fahrenheit_temperatures)\n",
    "print(fahrenheit_temperatures_list)\n",
    "\n"
   ]
  },
  {
   "cell_type": "markdown",
   "id": "8c03216c-048a-4d88-bca4-b6ed775b7265",
   "metadata": {},
   "source": [
    "10. Create a Python program that uses `filter()` to remove all the vowels from a given string."
   ]
  },
  {
   "cell_type": "code",
   "execution_count": 81,
   "id": "7c324d40-f4a1-4c65-896f-84ffb379a89d",
   "metadata": {},
   "outputs": [
    {
     "name": "stdout",
     "output_type": "stream",
     "text": [
      "Rjkmr Thkr\n"
     ]
    }
   ],
   "source": [
    "def is_not_vowel(char):\n",
    "    vowels = 'aeiouAEIOU'\n",
    "    return char not in vowels\n",
    "\n",
    "def remove_vowels(input_string):\n",
    "   \n",
    "    filtered_chars = filter(is_not_vowel, input_string)\n",
    "    return ''.join(filtered_chars)\n",
    "\n",
    "input_string = \"Rajkumar Thakare\"\n",
    "result = remove_vowels(input_string)\n",
    "print(result)\n"
   ]
  },
  {
   "cell_type": "code",
   "execution_count": null,
   "id": "6aab7683-7e33-480c-84d5-a26a5972fe86",
   "metadata": {},
   "outputs": [],
   "source": []
  },
  {
   "cell_type": "code",
   "execution_count": null,
   "id": "ea3249f4-57ad-41e4-9fa6-549544a59d6c",
   "metadata": {},
   "outputs": [],
   "source": []
  },
  {
   "cell_type": "code",
   "execution_count": null,
   "id": "9dcec101-d25c-465b-a6db-0cb17da82256",
   "metadata": {},
   "outputs": [],
   "source": []
  },
  {
   "cell_type": "code",
   "execution_count": null,
   "id": "0b9ec5f1-1961-487e-a126-1a65d077ab42",
   "metadata": {},
   "outputs": [],
   "source": []
  },
  {
   "cell_type": "code",
   "execution_count": null,
   "id": "9dde7f62-99a0-4257-9764-21064a698c47",
   "metadata": {},
   "outputs": [],
   "source": []
  },
  {
   "cell_type": "code",
   "execution_count": null,
   "id": "f14d3fe0-02c2-4a62-82b9-996d51b1ea05",
   "metadata": {},
   "outputs": [],
   "source": []
  },
  {
   "cell_type": "code",
   "execution_count": null,
   "id": "5952a651-2312-4d91-b463-3e599c1931f8",
   "metadata": {},
   "outputs": [],
   "source": []
  },
  {
   "cell_type": "code",
   "execution_count": null,
   "id": "7d97949d-51dd-4085-9017-efdf6fb95a8d",
   "metadata": {},
   "outputs": [],
   "source": []
  },
  {
   "cell_type": "code",
   "execution_count": null,
   "id": "cda0a85e-c0c6-4ac8-9def-444c4a0be109",
   "metadata": {},
   "outputs": [],
   "source": []
  },
  {
   "cell_type": "code",
   "execution_count": null,
   "id": "a7413f9a-6581-44fc-980a-d908fadbb445",
   "metadata": {},
   "outputs": [],
   "source": []
  },
  {
   "cell_type": "code",
   "execution_count": null,
   "id": "75cbef64-c7d4-40e3-9e05-435f8567533a",
   "metadata": {},
   "outputs": [],
   "source": []
  },
  {
   "cell_type": "code",
   "execution_count": null,
   "id": "69ea211f-e585-49ae-9b93-c40af5f0b5d7",
   "metadata": {},
   "outputs": [],
   "source": []
  },
  {
   "cell_type": "code",
   "execution_count": null,
   "id": "d8b385d6-9667-4d4b-8596-f65fdb29342e",
   "metadata": {},
   "outputs": [],
   "source": []
  },
  {
   "cell_type": "code",
   "execution_count": null,
   "id": "e780e692-cc5a-4648-84e8-078ede29a002",
   "metadata": {},
   "outputs": [],
   "source": []
  },
  {
   "cell_type": "code",
   "execution_count": null,
   "id": "035f1c9e-dd08-4e18-96cf-39efc14cf0b1",
   "metadata": {},
   "outputs": [],
   "source": []
  },
  {
   "cell_type": "code",
   "execution_count": null,
   "id": "fabe87c5-33de-44f7-af04-84fac01300cb",
   "metadata": {},
   "outputs": [],
   "source": []
  }
 ],
 "metadata": {
  "kernelspec": {
   "display_name": "Python 3 (ipykernel)",
   "language": "python",
   "name": "python3"
  },
  "language_info": {
   "codemirror_mode": {
    "name": "ipython",
    "version": 3
   },
   "file_extension": ".py",
   "mimetype": "text/x-python",
   "name": "python",
   "nbconvert_exporter": "python",
   "pygments_lexer": "ipython3",
   "version": "3.10.8"
  }
 },
 "nbformat": 4,
 "nbformat_minor": 5
}
