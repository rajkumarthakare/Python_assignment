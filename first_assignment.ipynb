{
 "cells": [
  {
   "cell_type": "markdown",
   "id": "67b09589-e216-42f7-bab6-e738dc62ce12",
   "metadata": {},
   "source": [
    "# explain the key features of Python that make it a popular choice for programming.\n",
    "\n",
    " ans : Python is a programming language that is easy to understand and write, making it a popular choice among developers and programmers. \n",
    "It is compatible with various programming paradigms, such as procedural, object-oriented, and functional programming. \n",
    "Python has a large and active community of developers, an extensive standard library, and third-party packages for various domains. \n",
    "\n",
    "# Describe the role of predefined keywords in Python and provide examples of how they are used in a\n",
    "program.\n",
    "\n",
    "ans : Predefined keywords \n",
    "\n",
    "Keywords are reserved words in Python that have special meanings and cannot be used as identifiers (variable names, function names, etc.). \n",
    "Examples of keywords include if, else, while, for, def, class, import, try, except, return, True, False, None, etc.\n",
    "Keywords are case-sensitive and cannot be redefined or overridden within a Python program.\n",
    "\n",
    "# Compare and contrast mutable and immutable objects in Python with examples.\n",
    "ans : In Python, objects can be either changeable (modifiable) or unchangeable (unchangeable). \n",
    "Mutable objects, such as lists and dictionaries, can be modified after creation, while immutable objects, such as tuples and strings, cannot. \n",
    "Mutability affects how objects are stored and manipulated in memory, impacting performance, memory usage, and concurrency in Python programs. \n",
    "\n"
   ]
  },
  {
   "cell_type": "code",
   "execution_count": 1,
   "id": "09077875-bd9e-413d-a768-bdb0b87e0580",
   "metadata": {},
   "outputs": [
    {
     "data": {
      "text/plain": [
       "[1, 2, 4, 5, 'raj', (2+3j)]"
      ]
     },
     "execution_count": 1,
     "metadata": {},
     "output_type": "execute_result"
    }
   ],
   "source": [
    "# Mutabilty\n",
    "\n",
    "lis_age = [ 1 , 2 , 4 , 5 , \"raj\" , 2+3j ]\n",
    "lis_age"
   ]
  },
  {
   "cell_type": "code",
   "execution_count": 2,
   "id": "5306bfb5-e5aa-4bde-b5cd-5355db6db1f4",
   "metadata": {},
   "outputs": [
    {
     "data": {
      "text/plain": [
       "[1, 2, 4, 5, 'akshay', (2+3j)]"
      ]
     },
     "execution_count": 2,
     "metadata": {},
     "output_type": "execute_result"
    }
   ],
   "source": [
    "lis_age [4] = \"akshay\"\n",
    "lis_age"
   ]
  },
  {
   "cell_type": "code",
   "execution_count": 3,
   "id": "06aedbed-8392-4913-aec0-fb0fea72affc",
   "metadata": {},
   "outputs": [
    {
     "ename": "TypeError",
     "evalue": "'str' object does not support item assignment",
     "output_type": "error",
     "traceback": [
      "\u001b[0;31m---------------------------------------------------------------------------\u001b[0m",
      "\u001b[0;31mTypeError\u001b[0m                                 Traceback (most recent call last)",
      "Cell \u001b[0;32mIn[3], line 4\u001b[0m\n\u001b[1;32m      1\u001b[0m \u001b[38;5;66;03m# Immutability\u001b[39;00m\n\u001b[1;32m      3\u001b[0m char \u001b[38;5;241m=\u001b[39m \u001b[38;5;124m\"\u001b[39m\u001b[38;5;124mravan\u001b[39m\u001b[38;5;124m\"\u001b[39m \n\u001b[0;32m----> 4\u001b[0m \u001b[43mchar\u001b[49m\u001b[43m \u001b[49m\u001b[43m[\u001b[49m\u001b[38;5;241;43m2\u001b[39;49m\u001b[43m]\u001b[49m \u001b[38;5;241m=\u001b[39m \u001b[38;5;124m\"\u001b[39m\u001b[38;5;124mj\u001b[39m\u001b[38;5;124m\"\u001b[39m\n\u001b[1;32m      5\u001b[0m char\n",
      "\u001b[0;31mTypeError\u001b[0m: 'str' object does not support item assignment"
     ]
    }
   ],
   "source": [
    "# Immutability >> does not support item assignment\n",
    "\n",
    "char = \"ravan\" \n",
    "char [2] = \"j\"\n",
    "char"
   ]
  },
  {
   "cell_type": "code",
   "execution_count": null,
   "id": "0502d088-8128-4be6-a9c0-b1b3f5fd761d",
   "metadata": {},
   "outputs": [],
   "source": []
  },
  {
   "cell_type": "code",
   "execution_count": null,
   "id": "7ebb1934-b8a6-464d-bb6a-d3b1e608c6c2",
   "metadata": {},
   "outputs": [],
   "source": []
  },
  {
   "cell_type": "markdown",
   "id": "9f9830c6-5bd7-4358-b10a-fdcb30383ecc",
   "metadata": {},
   "source": [
    "# Discuss the different types of operators in Python and provide examples of how they are used.\n",
    "ans : Operators\n",
    "\n",
    "Operators are special symbols or keywords that are used to carry out specific actions on numbers or variables in Python expressions. \n",
    "Python supports various types of operators, including arithmetic operators (+, -, *, /), comparison operators (==, !=, <, >), logical operators (and, or, not), assignment operators (=, +=, -=, *=, /=), etc.\n",
    "Operators have precedence and associativity rules that determine the order of evaluation in expressions."
   ]
  },
  {
   "cell_type": "code",
   "execution_count": null,
   "id": "dd674f31-2655-48a8-9e0d-1537571b25ad",
   "metadata": {},
   "outputs": [],
   "source": []
  },
  {
   "cell_type": "code",
   "execution_count": 9,
   "id": "22f19ef7-7ef7-4b53-b9cf-a4bdeeca5048",
   "metadata": {},
   "outputs": [
    {
     "data": {
      "text/plain": [
       "5"
      ]
     },
     "execution_count": 9,
     "metadata": {},
     "output_type": "execute_result"
    }
   ],
   "source": [
    "# arithmetic operators (+, -, *, /)\n",
    "a = 3 \n",
    "b = 2\n",
    "a + b"
   ]
  },
  {
   "cell_type": "code",
   "execution_count": 6,
   "id": "495b0d4e-c401-4cd7-a368-91fb92f7c7d0",
   "metadata": {},
   "outputs": [
    {
     "data": {
      "text/plain": [
       "3"
      ]
     },
     "execution_count": 6,
     "metadata": {},
     "output_type": "execute_result"
    }
   ],
   "source": [
    "# assigning a == 5 \n",
    "a -2 "
   ]
  },
  {
   "cell_type": "code",
   "execution_count": 7,
   "id": "40b743de-fa9c-4c2c-b81f-50e90f959696",
   "metadata": {},
   "outputs": [
    {
     "data": {
      "text/plain": [
       "10"
      ]
     },
     "execution_count": 7,
     "metadata": {},
     "output_type": "execute_result"
    }
   ],
   "source": [
    "a * 2"
   ]
  },
  {
   "cell_type": "code",
   "execution_count": 8,
   "id": "784b189a-db13-4f34-88cf-791081fe031c",
   "metadata": {},
   "outputs": [
    {
     "data": {
      "text/plain": [
       "2.5"
      ]
     },
     "execution_count": 8,
     "metadata": {},
     "output_type": "execute_result"
    }
   ],
   "source": [
    "a / 2"
   ]
  },
  {
   "cell_type": "code",
   "execution_count": 10,
   "id": "e8549279-4e8a-43e3-8102-b54e2df5bd64",
   "metadata": {},
   "outputs": [
    {
     "data": {
      "text/plain": [
       "False"
      ]
     },
     "execution_count": 10,
     "metadata": {},
     "output_type": "execute_result"
    }
   ],
   "source": [
    "## comparison operators (==, !=, <, >)  compare two values and return boolean value\n",
    "\n",
    "a == 5\n"
   ]
  },
  {
   "cell_type": "code",
   "execution_count": 11,
   "id": "7fccfec8-61eb-4dea-85d1-f4ac145871a0",
   "metadata": {},
   "outputs": [
    {
     "data": {
      "text/plain": [
       "True"
      ]
     },
     "execution_count": 11,
     "metadata": {},
     "output_type": "execute_result"
    }
   ],
   "source": [
    " 5 == 5"
   ]
  },
  {
   "cell_type": "code",
   "execution_count": 12,
   "id": "d6b60656-ee28-44c3-ab73-2cd79518da10",
   "metadata": {},
   "outputs": [
    {
     "data": {
      "text/plain": [
       "False"
      ]
     },
     "execution_count": 12,
     "metadata": {},
     "output_type": "execute_result"
    }
   ],
   "source": [
    "5 != 5"
   ]
  },
  {
   "cell_type": "code",
   "execution_count": 13,
   "id": "855a2937-6a06-4fd1-95b6-4e806f930f75",
   "metadata": {},
   "outputs": [
    {
     "data": {
      "text/plain": [
       "False"
      ]
     },
     "execution_count": 13,
     "metadata": {},
     "output_type": "execute_result"
    }
   ],
   "source": [
    " 5 < 3"
   ]
  },
  {
   "cell_type": "code",
   "execution_count": 14,
   "id": "e3f43feb-cd56-4196-a984-3d1fc997bebd",
   "metadata": {},
   "outputs": [
    {
     "data": {
      "text/plain": [
       "True"
      ]
     },
     "execution_count": 14,
     "metadata": {},
     "output_type": "execute_result"
    }
   ],
   "source": [
    "5 > 3"
   ]
  },
  {
   "cell_type": "code",
   "execution_count": null,
   "id": "87bf66de-1e05-4a22-91e3-b390c10e240b",
   "metadata": {},
   "outputs": [],
   "source": []
  },
  {
   "cell_type": "code",
   "execution_count": 15,
   "id": "2b029f15-47df-45c9-b8a4-553e2f5ee979",
   "metadata": {},
   "outputs": [
    {
     "data": {
      "text/plain": [
       "False"
      ]
     },
     "execution_count": 15,
     "metadata": {},
     "output_type": "execute_result"
    }
   ],
   "source": [
    "# logical operators (and, or, not), \n",
    "\n",
    "True and False"
   ]
  },
  {
   "cell_type": "code",
   "execution_count": 16,
   "id": "3c46e217-cd8b-405c-beb2-6926a2fe271a",
   "metadata": {},
   "outputs": [
    {
     "data": {
      "text/plain": [
       "True"
      ]
     },
     "execution_count": 16,
     "metadata": {},
     "output_type": "execute_result"
    }
   ],
   "source": [
    "True and True"
   ]
  },
  {
   "cell_type": "code",
   "execution_count": 17,
   "id": "36b93976-43fc-4a8d-909a-709d56dd59c1",
   "metadata": {},
   "outputs": [
    {
     "data": {
      "text/plain": [
       "True"
      ]
     },
     "execution_count": 17,
     "metadata": {},
     "output_type": "execute_result"
    }
   ],
   "source": [
    "True or False"
   ]
  },
  {
   "cell_type": "code",
   "execution_count": 18,
   "id": "1ba7d0ac-4caa-46df-bad7-6dcd7d383a3c",
   "metadata": {},
   "outputs": [
    {
     "data": {
      "text/plain": [
       "False"
      ]
     },
     "execution_count": 18,
     "metadata": {},
     "output_type": "execute_result"
    }
   ],
   "source": [
    "False or False"
   ]
  },
  {
   "cell_type": "code",
   "execution_count": 21,
   "id": "660025c2-5435-4973-a49d-24dff8b63c84",
   "metadata": {},
   "outputs": [
    {
     "data": {
      "text/plain": [
       "14"
      ]
     },
     "execution_count": 21,
     "metadata": {},
     "output_type": "execute_result"
    }
   ],
   "source": [
    "# assignment operators (=, +=, -=, *=, /=)\n",
    "\n",
    "b = 6\n",
    "b = b + 8\n",
    "b"
   ]
  },
  {
   "cell_type": "code",
   "execution_count": 24,
   "id": "346af1f0-f7ff-4f58-860e-238d889ecc5e",
   "metadata": {},
   "outputs": [
    {
     "data": {
      "text/plain": [
       "16"
      ]
     },
     "execution_count": 24,
     "metadata": {},
     "output_type": "execute_result"
    }
   ],
   "source": [
    "b = 8\n",
    "b += 8\n",
    "b"
   ]
  },
  {
   "cell_type": "code",
   "execution_count": 25,
   "id": "2bbf0b2e-6a90-47db-8fde-5673792cd553",
   "metadata": {},
   "outputs": [
    {
     "data": {
      "text/plain": [
       "12"
      ]
     },
     "execution_count": 25,
     "metadata": {},
     "output_type": "execute_result"
    }
   ],
   "source": [
    "b -= 4\n",
    "b"
   ]
  },
  {
   "cell_type": "code",
   "execution_count": 26,
   "id": "b9119ede-c304-4d25-b08d-7f489b2e598e",
   "metadata": {},
   "outputs": [
    {
     "data": {
      "text/plain": [
       "15"
      ]
     },
     "execution_count": 26,
     "metadata": {},
     "output_type": "execute_result"
    }
   ],
   "source": [
    "b = 5\n",
    "b *= 3\n",
    "b"
   ]
  },
  {
   "cell_type": "code",
   "execution_count": 29,
   "id": "72cec673-424b-4cd4-ab10-25fa264168d4",
   "metadata": {},
   "outputs": [
    {
     "data": {
      "text/plain": [
       "40.0"
      ]
     },
     "execution_count": 29,
     "metadata": {},
     "output_type": "execute_result"
    }
   ],
   "source": [
    "b = 200\n",
    "b /= 5\n",
    "b"
   ]
  },
  {
   "cell_type": "code",
   "execution_count": null,
   "id": "80751a06-4660-4610-9811-a83d71442ac9",
   "metadata": {},
   "outputs": [],
   "source": []
  },
  {
   "cell_type": "code",
   "execution_count": null,
   "id": "86b3df10-337c-452e-85d6-ce3186d7b00a",
   "metadata": {},
   "outputs": [],
   "source": []
  },
  {
   "cell_type": "markdown",
   "id": "c0222ec3-288d-4f61-92bf-775d590f911a",
   "metadata": {},
   "source": [
    "# explain the concept of type casting in Python with examples.\n",
    " ans : Type Casting \n",
    "\n",
    "Type casting, also referred to as type conversion, is the process of changing one data type to another in Python. \n",
    "Python provides built-in functions for type casting, such as int(), float(), str(), list(), tuple(), dict(), etc.\n",
    "Type casting is often necessary for performing arithmetic operations, data manipulation, and input/output operations in Python programs. "
   ]
  },
  {
   "cell_type": "code",
   "execution_count": 30,
   "id": "e2a6e0b9-5941-4ebd-858d-86c8065bbc44",
   "metadata": {},
   "outputs": [
    {
     "data": {
      "text/plain": [
       "int"
      ]
     },
     "execution_count": 30,
     "metadata": {},
     "output_type": "execute_result"
    }
   ],
   "source": [
    " a = 5\n",
    "type(a)"
   ]
  },
  {
   "cell_type": "code",
   "execution_count": 31,
   "id": "8ca8ffc5-744d-4175-aaa9-2ffbbc7f74cf",
   "metadata": {},
   "outputs": [
    {
     "data": {
      "text/plain": [
       "float"
      ]
     },
     "execution_count": 31,
     "metadata": {},
     "output_type": "execute_result"
    }
   ],
   "source": [
    "b = 0.5\n",
    "type(b)"
   ]
  },
  {
   "cell_type": "code",
   "execution_count": 32,
   "id": "281b260b-5142-4a57-89b9-d6778fb71900",
   "metadata": {},
   "outputs": [
    {
     "data": {
      "text/plain": [
       "list"
      ]
     },
     "execution_count": 32,
     "metadata": {},
     "output_type": "execute_result"
    }
   ],
   "source": [
    "age = [2, 5 , 6]\n",
    "type(age)"
   ]
  },
  {
   "cell_type": "code",
   "execution_count": 34,
   "id": "17233758-9685-42f9-a841-d63852bcc923",
   "metadata": {},
   "outputs": [
    {
     "data": {
      "text/plain": [
       "tuple"
      ]
     },
     "execution_count": 34,
     "metadata": {},
     "output_type": "execute_result"
    }
   ],
   "source": [
    "age = (2, 5 , 6)\n",
    "type(age)"
   ]
  },
  {
   "cell_type": "code",
   "execution_count": 36,
   "id": "3ed28b01-640f-4b55-8ca2-2df145e28cf1",
   "metadata": {},
   "outputs": [
    {
     "data": {
      "text/plain": [
       "dict"
      ]
     },
     "execution_count": 36,
     "metadata": {},
     "output_type": "execute_result"
    }
   ],
   "source": [
    "age = {\"raj\":2, \"suraj\": 5 }\n",
    "type(age)"
   ]
  },
  {
   "cell_type": "code",
   "execution_count": null,
   "id": "d29e7eba-1e1e-4d8c-8497-371dbe5587ee",
   "metadata": {},
   "outputs": [],
   "source": []
  },
  {
   "cell_type": "markdown",
   "id": "fee285a7-927a-4c00-8a4c-11259a067f1b",
   "metadata": {},
   "source": [
    "# 6. How do conditional statements work in Python? Illustrate with examples.\n",
    "ans - Conditionals\n",
    "Conditionals in Python are used to execute code based on the evaluation of one or more conditions.\n",
    "Python supports conditional statements such as if, elif (else if), and else to control the flow of execution.\n",
    "Conditionals can be nested to handle multiple conditions and control different branches of execution based on the outcome of logical expressions.\n"
   ]
  },
  {
   "cell_type": "code",
   "execution_count": 38,
   "id": "c4e51169-bb71-409b-99b5-adda553d5b8a",
   "metadata": {},
   "outputs": [
    {
     "name": "stdout",
     "output_type": "stream",
     "text": [
      "You are passed\n"
     ]
    }
   ],
   "source": [
    "a = 800\n",
    "if a > 500:\n",
    "    print(\"You are passed\")\n"
   ]
  },
  {
   "cell_type": "code",
   "execution_count": 39,
   "id": "f79d324f-da79-46fb-963e-e214204376ed",
   "metadata": {},
   "outputs": [
    {
     "name": "stdout",
     "output_type": "stream",
     "text": [
      "We will travel\n"
     ]
    }
   ],
   "source": [
    "bus = \"DNR\"\n",
    "if bus == \"DNR\":\n",
    "    print(\"We will travel\")"
   ]
  },
  {
   "cell_type": "code",
   "execution_count": 41,
   "id": "d97a85bb-c080-40f7-9290-b2d756cb9820",
   "metadata": {},
   "outputs": [
    {
     "name": "stdout",
     "output_type": "stream",
     "text": [
      "even number\n"
     ]
    }
   ],
   "source": [
    "a = 50\n",
    "if ( (a%2 == 0) & (a > 25)):\n",
    "    print(\"even number\")"
   ]
  },
  {
   "cell_type": "code",
   "execution_count": 44,
   "id": "05365954-215e-4693-a456-a81f704b7178",
   "metadata": {},
   "outputs": [
    {
     "name": "stdout",
     "output_type": "stream",
     "text": [
      "even number\n"
     ]
    }
   ],
   "source": [
    "# if else \n",
    "a = 50\n",
    "if ( (a%2 == 0) & (a >= 50)):\n",
    "    print(\"even number\")\n",
    "else:\n",
    "    print(\"odd number\")"
   ]
  },
  {
   "cell_type": "code",
   "execution_count": 1,
   "id": "64341bef-de62-4dcd-aecb-ce109c452f96",
   "metadata": {},
   "outputs": [
    {
     "name": "stdout",
     "output_type": "stream",
     "text": [
      "Pay taxes\n"
     ]
    }
   ],
   "source": [
    " age = 64\n",
    "if age >= 65:\n",
    "    print(\"eligible for pension\")\n",
    "else:\n",
    "    print(\"Pay taxes\")"
   ]
  },
  {
   "cell_type": "code",
   "execution_count": 7,
   "id": "a8f5627e-3553-44df-8324-de797e2726e6",
   "metadata": {},
   "outputs": [
    {
     "name": "stdout",
     "output_type": "stream",
     "text": [
      "Improve\n"
     ]
    }
   ],
   "source": [
    "# elif : more than or equal to two conditions\n",
    "\n",
    "score = 35\n",
    "if score >= 80:\n",
    "    print(\"Best score\")\n",
    "elif (score < 80 < 60):\n",
    "        print (\"better score\")\n",
    "else:\n",
    "    print(\"Improve\")"
   ]
  },
  {
   "cell_type": "code",
   "execution_count": null,
   "id": "6197321b-0f54-4275-a5e3-5b52b2cc2361",
   "metadata": {},
   "outputs": [],
   "source": []
  },
  {
   "cell_type": "markdown",
   "id": "795395e1-be06-41ba-b9f4-3fe0622ee813",
   "metadata": {},
   "source": [
    "# 7. Describe the different types of loops in Python and their use cases with examples.\n",
    "ans : Loops\n",
    "\n",
    "In Python, loops are employed to repeat a sequence of actions or code until a specific condition is fulfilled. \n",
    "Python offers two primary types of loops: for loops and while loops. \n",
    "“for” loops are used for iterating over a sequence of elements, while “while” loops are used for executing code until a specified condition becomes False"
   ]
  },
  {
   "cell_type": "code",
   "execution_count": null,
   "id": "0a6c007d-9d5c-4072-972c-cd0c9b163649",
   "metadata": {},
   "outputs": [],
   "source": [
    "# while  loop : will execute a block of code untill condition is met.\n",
    "\n"
   ]
  },
  {
   "cell_type": "code",
   "execution_count": 1,
   "id": "75c49899-b6bc-4dde-bdc9-499c90f28177",
   "metadata": {
    "tags": []
   },
   "outputs": [
    {
     "name": "stdout",
     "output_type": "stream",
     "text": [
      "6\n",
      "7\n",
      "8\n"
     ]
    }
   ],
   "source": [
    "n = 9\n",
    "i = 6\n",
    "while i < n:\n",
    "    print(i)\n",
    "    i = i+1"
   ]
  },
  {
   "cell_type": "code",
   "execution_count": null,
   "id": "30ddc9ed-54db-4d00-acb6-7b46f349dd13",
   "metadata": {},
   "outputs": [],
   "source": []
  },
  {
   "cell_type": "code",
   "execution_count": null,
   "id": "91d79e89-6a93-401c-b7e2-cb9c652d99ac",
   "metadata": {},
   "outputs": [],
   "source": []
  },
  {
   "cell_type": "code",
   "execution_count": null,
   "id": "83cbd089-778f-4a35-a455-a8b8a82aec9c",
   "metadata": {},
   "outputs": [],
   "source": [
    "# for loop : "
   ]
  },
  {
   "cell_type": "code",
   "execution_count": 3,
   "id": "a1138c5a-ad0f-4302-a079-27596df8d8eb",
   "metadata": {},
   "outputs": [
    {
     "name": "stdout",
     "output_type": "stream",
     "text": [
      "2\n",
      "3\n",
      "rajkumar\n",
      "3+2j\n"
     ]
    }
   ],
   "source": [
    "k = [2, 3, \"rajkumar\", \"3+2j\"]\n",
    "for i in k:\n",
    "    print(i)"
   ]
  },
  {
   "cell_type": "code",
   "execution_count": 7,
   "id": "48052087-d814-4520-af8d-52e01656b6e7",
   "metadata": {},
   "outputs": [
    {
     "name": "stdout",
     "output_type": "stream",
     "text": [
      "2\n",
      "3\n",
      "rajkumar\n"
     ]
    }
   ],
   "source": [
    "for i in k:\n",
    "    if i == \"3+2j\":\n",
    "        break\n",
    "    print(i)\n",
    "else:\n",
    "    \"Continue\"\n",
    "       "
   ]
  },
  {
   "cell_type": "code",
   "execution_count": null,
   "id": "7261758b-1efc-45ae-a6f2-a7f059748ff8",
   "metadata": {},
   "outputs": [],
   "source": []
  }
 ],
 "metadata": {
  "kernelspec": {
   "display_name": "Python 3 (ipykernel)",
   "language": "python",
   "name": "python3"
  },
  "language_info": {
   "codemirror_mode": {
    "name": "ipython",
    "version": 3
   },
   "file_extension": ".py",
   "mimetype": "text/x-python",
   "name": "python",
   "nbconvert_exporter": "python",
   "pygments_lexer": "ipython3",
   "version": "3.10.8"
  }
 },
 "nbformat": 4,
 "nbformat_minor": 5
}
